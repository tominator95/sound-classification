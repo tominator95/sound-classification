{
 "cells": [
  {
   "cell_type": "code",
   "execution_count": 1,
   "id": "d43eecb5-ad94-4093-9532-fb5213431345",
   "metadata": {},
   "outputs": [],
   "source": [
    "import torch\n",
    "import torchvision\n",
    "import torchaudio"
   ]
  },
  {
   "cell_type": "code",
   "execution_count": 7,
   "id": "886faa03-ec39-4c90-83d3-29f53c73edb2",
   "metadata": {},
   "outputs": [
    {
     "name": "stdout",
     "output_type": "stream",
     "text": [
      "PyTorch Version: 1.9.1+cu111\n",
      "Cuda: True\n",
      "Torchvision Version: 0.10.1+cu111\n",
      "Torchaudio Version: 0.9.1\n"
     ]
    }
   ],
   "source": [
    "print(\"PyTorch Version: \" + torch.__version__)\n",
    "print(\"Cuda: \" + str(torch.cuda.is_available()))\n",
    "print(\"Torchvision Version: \" + torchvision.__version__)\n",
    "print(\"Torchaudio Version: \" + torchaudio.__version__)"
   ]
  },
  {
   "cell_type": "code",
   "execution_count": null,
   "id": "3274b6ae-4e76-41e7-91bb-ef6b4dc7e05f",
   "metadata": {},
   "outputs": [],
   "source": []
  }
 ],
 "metadata": {
  "kernelspec": {
   "display_name": "Python 3 (ipykernel)",
   "language": "python",
   "name": "python3"
  },
  "language_info": {
   "codemirror_mode": {
    "name": "ipython",
    "version": 3
   },
   "file_extension": ".py",
   "mimetype": "text/x-python",
   "name": "python",
   "nbconvert_exporter": "python",
   "pygments_lexer": "ipython3",
   "version": "3.8.0"
  }
 },
 "nbformat": 4,
 "nbformat_minor": 5
}
